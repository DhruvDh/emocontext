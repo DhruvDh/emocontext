{
 "cells": [
  {
   "cell_type": "code",
   "execution_count": 1,
   "metadata": {},
   "outputs": [
    {
     "name": "stderr",
     "output_type": "stream",
     "text": [
      "Using TensorFlow backend.\n"
     ]
    }
   ],
   "source": [
    "import numpy as np\n",
    "from keras.preprocessing.text import Tokenizer\n",
    "from keras.preprocessing.sequence import pad_sequences\n",
    "from keras.utils import to_categorical\n",
    "from keras.models import Sequential\n",
    "from keras.layers import Input, Dense, Embedding, LSTM, Concatenate, Reshape, GRU, Bidirectional\n",
    "from keras import optimizers\n",
    "from keras.models import load_model\n",
    "from keras.metrics import categorical_accuracy\n",
    "from sklearn.utils import class_weight\n",
    "from fastText import load_model\n",
    "import pickle\n",
    "import os\n",
    "import re\n",
    "import io\n",
    "import sys\n",
    "from keras.models import Model\n",
    "\n",
    "# Path to training and testing data file. This data can be downloaded from a link, details of which will be provided.\n",
    "trainDataPath = \"data\\\\train.txt\"\n",
    "testDataPath = \"data\\\\devwithoutlabels.txt\"\n",
    "# Output file that will be generated. This file can be directly submitted.\n",
    "solutionPath = \"/\"\n",
    "# Path to directory where GloVe file is saved.\n",
    "gloveDir = \"vectors\"\n",
    "vectorName = \"vectors.txt\""
   ]
  },
  {
   "cell_type": "code",
   "execution_count": 2,
   "metadata": {},
   "outputs": [],
   "source": [
    "label2emotion = {0: \"others\", 1: \"happy\", 2: \"sad\", 3: \"angry\"}\n",
    "emotion2label = {\"others\": 0, \"happy\": 1, \"sad\": 2, \"angry\": 3}\n",
    "\n",
    "NUM_CLASSES = 4                 # Number of classes - Happy, Sad, Angry, Others\n",
    "# To set the upper limit on the number of tokens extracted using keras.preprocessing.text.Tokenizer\n",
    "MAX_NB_WORDS = 15000\n",
    "# All sentences having lesser number of words than this will be padded\n",
    "MAX_SEQUENCE_LENGTH = 24\n",
    "EMBEDDING_DIM = 300               # The dimension of the word embeddings\n",
    "# The batch size to be chosen for training the model.\n",
    "BATCH_SIZE = 128\n",
    "# The dimension of the representations learnt by the LSTM model\n",
    "LSTM_DIM = 600\n",
    "# Fraction of the units to drop for the linear transformation of the inputs. Ref - https://keras.io/layers/recurrent/\n",
    "DROPOUT = 0.5\n",
    "NUM_EPOCHS = 15                  # Number of epochs to train a model for\n",
    "LEARNING_RATE = 1e-4"
   ]
  },
  {
   "cell_type": "code",
   "execution_count": 3,
   "metadata": {},
   "outputs": [],
   "source": [
    "def preprocessData(dataFilePath, mode):\n",
    "    \"\"\"Load data from a file, process and return indices, conversations and labels in separate lists\n",
    "    Input:\n",
    "        dataFilePath : Path to train/test file to be processed\n",
    "        mode : \"train\" mode returns labels. \"test\" mode doesn't return labels.\n",
    "    Output:\n",
    "        indices : Unique conversation ID list\n",
    "        conversations : List of 3 turn conversations, processed and each turn separated by the <eos> tag\n",
    "        labels : [Only available in \"train\" mode] List of labels\n",
    "    \"\"\"\n",
    "    indices = []\n",
    "    conversations = []\n",
    "    labels = []\n",
    "    u1 = []\n",
    "    u2 = []\n",
    "    u3 = []\n",
    "    with io.open(dataFilePath, encoding=\"utf8\") as finput:\n",
    "        finput.readline()\n",
    "        for line in finput:\n",
    "            # Convert multiple instances of . ? ! , to single instance\n",
    "            # okay...sure -> okay . sure\n",
    "            # okay???sure -> okay ? sure\n",
    "            # Add whitespace around such punctuation\n",
    "            # okay!sure -> okay ! sure\n",
    "            repeatedChars = ['.', '?', '!', ',']\n",
    "            for c in repeatedChars:\n",
    "                lineSplit = line.split(c)\n",
    "                while True:\n",
    "                    try:\n",
    "                        lineSplit.remove('')\n",
    "                    except:\n",
    "                        break\n",
    "                cSpace = ' ' + c + ' '\n",
    "                line = cSpace.join(lineSplit)\n",
    "\n",
    "            line = line.strip().split('\\t')\n",
    "            if mode == \"train\":\n",
    "                # Train data contains id, 3 turns and label\n",
    "                label = emotion2label[line[4]]\n",
    "                labels.append(label)\n",
    "\n",
    "            conv = ' <eos> '.join(line[1:4])\n",
    "\n",
    "            u1.append(line[1])\n",
    "            u2.append(line[2])\n",
    "            u3.append(line[3])\n",
    "\n",
    "            # Remove any duplicate spaces\n",
    "            duplicateSpacePattern = re.compile(r'\\ +')\n",
    "            conv = re.sub(duplicateSpacePattern, ' ', conv)\n",
    "\n",
    "            indices.append(int(line[0]))\n",
    "            conversations.append(conv.lower())\n",
    "\n",
    "    if mode == \"train\":\n",
    "        return indices, conversations, labels, u1, u2, u3\n",
    "    else:\n",
    "        return indices, conversations, u1, u2, u3"
   ]
  },
  {
   "cell_type": "code",
   "execution_count": 4,
   "metadata": {},
   "outputs": [],
   "source": [
    "def getEmbeddingMatrix(wordIndex):\n",
    "    \"\"\"Populate an embedding matrix using a word-index. If the word \"happy\" has an index 19,\n",
    "       the 19th row in the embedding matrix should contain the embedding vector for the word \"happy\".\n",
    "    Input:\n",
    "        wordIndex : A dictionary of (word : index) pairs, extracted using a tokeniser\n",
    "    Output:\n",
    "        embeddingMatrix : A matrix where every row has 100 dimensional GloVe embedding\n",
    "    \"\"\"\n",
    "    if vectorName.startswith('glove'):\n",
    "        embeddingsIndex = {}\n",
    "    #     Load the embedding vectors from ther GloVe file\n",
    "        with io.open(os.path.join(gloveDir, vectorName), encoding=\"utf8\") as f:\n",
    "            for line in f:\n",
    "                values = line.split(' ')\n",
    "               # print(values)\n",
    "                word = values[0]\n",
    "                embeddingVector = np.array([float(val) for val in values[1:]])\n",
    "                embeddingsIndex[word] = embeddingVector\n",
    "\n",
    "        print('Found %s word vectors.' % len(embeddingsIndex))\n",
    "        with open(os.path.join(gloveDir, vectorName+'_index.pickle'), 'wb') as handle:\n",
    "            pickle.dump(embeddingsIndex, handle, protocol=pickle.HIGHEST_PROTOCOL)\n",
    "\n",
    "        # Minimum word index of any word is 1.\n",
    "        embeddingMatrix = np.zeros((len(wordIndex) + 1, EMBEDDING_DIM))\n",
    "        for word, i in wordIndex.items():\n",
    "            embeddingVector = embeddingsIndex.get(word)\n",
    "            if embeddingVector is not None:\n",
    "                # words not found in embedding index will be all-zeros.\n",
    "                embeddingMatrix[i] = embeddingVector\n",
    "        \n",
    "        with open(os.path.join(gloveDir, vectorName+'_matrix.pickle'), 'wb') as handle:\n",
    "            pickle.dump(embeddingMatrix, handle, protocol=pickle.HIGHEST_PROTOCOL)\n",
    "        return embeddingMatrix\n",
    "    else:\n",
    "        with io.open(os.path.join(gloveDir, vectorName), 'r', encoding='utf-8', newline='\\n', errors='ignore') as fin:\n",
    "            data = {}\n",
    "            for line in fin:\n",
    "                tokens = line.rstrip().split(' ')\n",
    "                data[tokens[0]] = list(map(float, tokens[1:]))\n",
    "            \n",
    "        with open(os.path.join(gloveDir, vectorName+'_index.pickle'), 'wb') as handle:\n",
    "            pickle.dump(data, handle, protocol=pickle.HIGHEST_PROTOCOL)\n",
    "            \n",
    "            # Minimum word index of any word is 1.\n",
    "        embeddingMatrix = np.zeros((len(wordIndex) + 1, EMBEDDING_DIM))\n",
    "        for word, i in wordIndex.items():\n",
    "            embeddingVector = data.get(word)\n",
    "            if embeddingVector is not None:\n",
    "                # words not found in embedding index will be all-zeros.\n",
    "                embeddingMatrix[i] = embeddingVector\n",
    "                \n",
    "        with open(os.path.join(gloveDir, vectorName+'_matrix.pickle'), 'wb') as handle:\n",
    "            pickle.dump(embeddingMatrix, handle, protocol=pickle.HIGHEST_PROTOCOL)\n",
    "        return embeddingMatrix"
   ]
  },
  {
   "cell_type": "code",
   "execution_count": 5,
   "metadata": {},
   "outputs": [],
   "source": [
    "def buildModel(embeddingMatrix):\n",
    "    \"\"\"Constructs the architecture of the model\n",
    "    Input:\n",
    "        embeddingMatrix : The embedding matrix to be loaded in the embedding layer.\n",
    "    Output:\n",
    "        model : A basic LSTM model\n",
    "    \"\"\"\n",
    "    x1 = Input(shape=(MAX_SEQUENCE_LENGTH,), dtype='int32', name='main_input1')\n",
    "    x2 = Input(shape=(MAX_SEQUENCE_LENGTH,), dtype='int32', name='main_input2')\n",
    "    x3 = Input(shape=(MAX_SEQUENCE_LENGTH,), dtype='int32', name='main_input3')\n",
    "\n",
    "    embeddingLayer = Embedding(embeddingMatrix.shape[0],\n",
    "                               EMBEDDING_DIM,\n",
    "                               weights=[embeddingMatrix],\n",
    "                               input_length=MAX_SEQUENCE_LENGTH,\n",
    "                               trainable=False)\n",
    "    emb1 = embeddingLayer(x1)\n",
    "    emb2 = embeddingLayer(x2)\n",
    "    emb3 = embeddingLayer(x3)\n",
    "\n",
    "    _lstm1 = Bidirectional(LSTM(LSTM_DIM, dropout=DROPOUT))\n",
    "    _lstm2 = Bidirectional(LSTM(LSTM_DIM, dropout=DROPOUT))\n",
    "    _lstm3 = Bidirectional(LSTM(LSTM_DIM, dropout=DROPOUT))\n",
    "\n",
    "    lstm1 = _lstm1(emb1)\n",
    "    lstm2 = _lstm2(emb2)\n",
    "    lstm3 = _lstm3(emb3)\n",
    "\n",
    "    inp = Concatenate(axis=-1)([lstm1, lstm2, lstm3])\n",
    "    # context = Dense(LSTM_DIM)(Concatenate(axis=-1)([lstm1, lstm2]))\n",
    "    # text = Dense(LSTM_DIM)(lstm3)\n",
    "\n",
    "    inp = Reshape((3, 2*LSTM_DIM, ))(inp)\n",
    "\n",
    "    lstm_up = LSTM(LSTM_DIM, dropout=DROPOUT)\n",
    "\n",
    "    out = lstm_up(inp)\n",
    "\n",
    "    # out = Dense(NUM_CLASSES)(Concatenate(axis=-1)([text, context]))\n",
    "    out = Dense(NUM_CLASSES, activation='softmax')(out)\n",
    "\n",
    "    adam = optimizers.adam(lr=LEARNING_RATE, amsgrad=True)\n",
    "    model = Model([x1, x2, x3], out)\n",
    "    model.compile(loss='categorical_crossentropy',\n",
    "                  optimizer=adam,\n",
    "                  metrics=['acc'])\n",
    "    print(model.summary())\n",
    "    return model"
   ]
  },
  {
   "cell_type": "code",
   "execution_count": 6,
   "metadata": {},
   "outputs": [
    {
     "name": "stdout",
     "output_type": "stream",
     "text": [
      "Processing training data...\n",
      "[0.50441531 1.77704454 1.38019403 1.36941518]\n",
      "Processing test data...\n",
      "Extracting tokens...\n",
      "Found 16830 unique tokens.\n",
      "Populating embedding matrix...\n",
      "Shape of training data tensor:  (30160, 24)\n",
      "Shape of label tensor:  (30160, 4)\n"
     ]
    }
   ],
   "source": [
    "print(\"Processing training data...\")\n",
    "trainIndices, trainTexts, labels, u1_train, u2_train, u3_train = preprocessData(trainDataPath, mode=\"train\")\n",
    "class_weights = class_weight.compute_class_weight('balanced', np.unique(labels), labels)\n",
    "print(class_weights)\n",
    "\n",
    "print(\"Processing test data...\")\n",
    "testIndices, testTexts, u1_test, u2_test, u3_test = preprocessData(testDataPath, mode=\"test\")\n",
    "\n",
    "print(\"Extracting tokens...\")\n",
    "tokenizer = Tokenizer(num_words=MAX_NB_WORDS)\n",
    "tokenizer.fit_on_texts(u1_train+u2_train+u3_train)\n",
    "\n",
    "u1_trainSequences, u2_trainSequences, u3_trainSequences = tokenizer.texts_to_sequences(u1_train), tokenizer.texts_to_sequences(u2_train),tokenizer.texts_to_sequences(u3_train)\n",
    "\n",
    "u1_testSequences, u2_testSequences, u3_testSequences = tokenizer.texts_to_sequences(u1_test),tokenizer.texts_to_sequences(u2_test),tokenizer.texts_to_sequences(u3_test)\n",
    "\n",
    "wordIndex = tokenizer.word_index\n",
    "print(\"Found %s unique tokens.\" % len(wordIndex))\n",
    "\n",
    "print(\"Populating embedding matrix...\")\n",
    "embeddingMatrix = getEmbeddingMatrix(wordIndex)\n",
    "\n",
    "u1_data = pad_sequences(u1_trainSequences, maxlen=MAX_SEQUENCE_LENGTH)\n",
    "u2_data = pad_sequences(u2_trainSequences, maxlen=MAX_SEQUENCE_LENGTH)\n",
    "u3_data = pad_sequences(u3_trainSequences, maxlen=MAX_SEQUENCE_LENGTH)\n",
    "labels = to_categorical(np.asarray(labels))\n",
    "print(\"Shape of training data tensor: \", u1_data.shape)\n",
    "print(\"Shape of label tensor: \", labels.shape)\n",
    "\n",
    "# Randomize data\n",
    "np.random.shuffle(trainIndices)\n",
    "\n",
    "u1_data = u1_data[trainIndices]\n",
    "u2_data = u2_data[trainIndices]\n",
    "u3_data = u3_data[trainIndices]\n",
    "\n",
    "labels = labels[trainIndices]"
   ]
  },
  {
   "cell_type": "code",
   "execution_count": null,
   "metadata": {},
   "outputs": [],
   "source": [
    "model = buildModel(embeddingMatrix)\n",
    "\n",
    "model.fit([u1_data, u2_data, u3_data], labels, epochs=NUM_EPOCHS, batch_size=BATCH_SIZE, class_weight=class_weights, verbose=2)\n",
    "model.save('EP%d_LR%de-5_LDim%d_BS%d.h5' % (NUM_EPOCHS, int(LEARNING_RATE*(10**5)), LSTM_DIM, BATCH_SIZE))"
   ]
  },
  {
   "cell_type": "code",
   "execution_count": null,
   "metadata": {},
   "outputs": [],
   "source": [
    "print(\"Creating solution file...\")\n",
    "    u1_testData, u2_testData, u3_testData = pad_sequences(u1_testSequences, maxlen=MAX_SEQUENCE_LENGTH), pad_sequences(\n",
    "        u2_testSequences, maxlen=MAX_SEQUENCE_LENGTH), pad_sequences(u3_testSequences, maxlen=MAX_SEQUENCE_LENGTH)\n",
    "    predictions = model.predict(\n",
    "        [u1_testData, u2_testData, u3_testData], batch_size=BATCH_SIZE)\n",
    "    predictions = predictions.argmax(axis=1)\n",
    "\n",
    "    with io.open(solutionPath, \"w\", encoding=\"utf8\") as fout:\n",
    "        fout.write(\n",
    "            '\\t'.join([\"id\", \"turn1\", \"turn2\", \"turn3\", \"label\"]) + '\\n')\n",
    "        with io.open(testDataPath, encoding=\"utf8\") as fin:\n",
    "            fin.readline()\n",
    "            for lineNum, line in enumerate(fin):\n",
    "                fout.write('\\t'.join(line.strip().split('\\t')[:4]) + '\\t')\n",
    "                fout.write(label2emotion[predictions[lineNum]] + '\\n')\n",
    "    print(\"Completed. Model parameters: \")\n",
    "    print(\"Learning rate : %.3f, LSTM Dim : %d, Dropout : %.3f, Batch_size : %d\"\n",
    "          % (LEARNING_RATE, LSTM_DIM, DROPOUT, BATCH_SIZE))"
   ]
  },
  {
   "cell_type": "code",
   "execution_count": null,
   "metadata": {},
   "outputs": [],
   "source": [
    "words = [word for word in wordIndex.keys()]\n",
    "with open('vectors\\\\words.txt', 'w', encoding='utf8') as f:\n",
    "    for item in words:\n",
    "        f.write(\"%s\\n\" % item)"
   ]
  },
  {
   "cell_type": "code",
   "execution_count": null,
   "metadata": {},
   "outputs": [],
   "source": [
    "words"
   ]
  },
  {
   "cell_type": "code",
   "execution_count": 7,
   "metadata": {},
   "outputs": [
    {
     "data": {
      "text/plain": [
       "array([[   0,    0,    0, ...,  168,   67,  614],\n",
       "       [   0,    0,    0, ...,   99,    3,    2],\n",
       "       [   0,    0,    0, ...,    2,   23, 1518],\n",
       "       ...,\n",
       "       [   0,    0,    0, ..., 1860,  292,  353],\n",
       "       [   0,    0,    0, ...,    1,  195,    2],\n",
       "       [   0,    0,    0, ...,   36,   30,   19]])"
      ]
     },
     "execution_count": 7,
     "metadata": {},
     "output_type": "execute_result"
    }
   ],
   "source": [
    "u1_data"
   ]
  },
  {
   "cell_type": "code",
   "execution_count": 16,
   "metadata": {},
   "outputs": [
    {
     "data": {
      "text/plain": [
       "array(['U had ur lunch  ? ', 'i think i will get better talking to you',\n",
       "       'Do you know cooking', ..., 'My gf is going to her native place 😭',\n",
       "       'When did I meet you', 'Just like that'], dtype='<U309')"
      ]
     },
     "execution_count": 16,
     "metadata": {},
     "output_type": "execute_result"
    }
   ],
   "source": [
    "np.array(u1_train)[trainIndices]"
   ]
  },
  {
   "cell_type": "code",
   "execution_count": 14,
   "metadata": {},
   "outputs": [
    {
     "data": {
      "text/plain": [
       "614"
      ]
     },
     "execution_count": 14,
     "metadata": {},
     "output_type": "execute_result"
    }
   ],
   "source": [
    "wordIndex['lunch']"
   ]
  },
  {
   "cell_type": "code",
   "execution_count": null,
   "metadata": {},
   "outputs": [],
   "source": []
  }
 ],
 "metadata": {
  "kernelspec": {
   "display_name": "Python 3",
   "language": "python",
   "name": "python3"
  },
  "language_info": {
   "codemirror_mode": {
    "name": "ipython",
    "version": 3
   },
   "file_extension": ".py",
   "mimetype": "text/x-python",
   "name": "python",
   "nbconvert_exporter": "python",
   "pygments_lexer": "ipython3",
   "version": "3.6.7"
  }
 },
 "nbformat": 4,
 "nbformat_minor": 2
}
